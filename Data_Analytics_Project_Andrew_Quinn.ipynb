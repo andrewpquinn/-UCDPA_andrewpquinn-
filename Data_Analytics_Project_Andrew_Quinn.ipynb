{
 "cells": [
  {
   "cell_type": "code",
   "execution_count": 2,
   "id": "8a44ba0f",
   "metadata": {},
   "outputs": [],
   "source": [
    "#importing packages & libraries\n",
    "import numpy as np\n",
    "import pandas as pd\n",
    "import seaborn as sns\n",
    "import matplotlib.pyplot as plt"
   ]
  },
  {
   "cell_type": "code",
   "execution_count": 81,
   "id": "0f23525d",
   "metadata": {
    "scrolled": true
   },
   "outputs": [
    {
     "name": "stdout",
     "output_type": "stream",
     "text": [
      "  OECD countries     2001     2002     2003       2004       2005       2006  \\\n",
      "0      Australia  263,408  292,623  358,915    442,936    583,888    678,162   \n",
      "1    Austria (1)    5,585    8,749   11,795     14,125     13,833     16,783   \n",
      "2    Belgium (2)   12,572   13,829   13,585     15,737     80,257     93,596   \n",
      "3     Canada (3)  741,658  721,408  974,754  1,176,362  1,372,019  1,535,715   \n",
      "4          Chile   35,385   35,826   49,224     60,535     74,508     88,293   \n",
      "\n",
      "        2007       2008       2009  ...       2015       2016       2017  \\\n",
      "0  1,014,341  1,095,339    867,429  ...  1,517,613  1,532,849  1,838,865   \n",
      "1     19,359     17,460     20,259  ...     22,393     21,980     26,772   \n",
      "2    114,350    107,602    120,155  ...    132,722    138,317    190,735   \n",
      "3  1,951,002  1,391,903  1,711,494  ...  2,225,732  2,378,020  2,721,976   \n",
      "4    111,277     74,313    118,052  ...    154,711    174,480    210,512   \n",
      "\n",
      "        2018       2019       2020       2021 Unnamed: 22 Unnamed: 23  \\\n",
      "0  1,858,710  1,825,932  1,797,259  2,291,929                     NaN   \n",
      "1     24,533     27,294     30,634     30,550                     NaN   \n",
      "2    180,379    187,122    223,702         ..                     NaN   \n",
      "3  2,524,309  2,814,497  3,081,679  3,218,436                     NaN   \n",
      "4    193,110    215,373    208,482    167,556                     NaN   \n",
      "\n",
      "  Unnamed: 24  \n",
      "0         NaN  \n",
      "1         NaN  \n",
      "2         NaN  \n",
      "3         NaN  \n",
      "4         NaN  \n",
      "\n",
      "[5 rows x 25 columns]\n",
      "(100, 25)\n"
     ]
    }
   ],
   "source": [
    "# Assign the filename: oecd_usd_priv_pens (Total assets in funded and private pension plans, in USD million, 2001-2021)\n",
    "oecd_usd_priv_pens = \"/Users/andrewquinn/Analytics Project/Pension-Markets-in-Focus-2022-Statistical-Annex/Table A.B.2 Total assets in funded and private pension plans, in USD million, 2001-2021-Table 1.csv\"\n",
    "# Read the file into a DataFrame: df\n",
    "df = pd.read_csv(oecd_usd_priv_pens)\n",
    "# View the head of the DataFrame\n",
    "print(df.head())\n",
    "print(df.shape)"
   ]
  },
  {
   "cell_type": "code",
   "execution_count": 82,
   "id": "840c8d12",
   "metadata": {},
   "outputs": [
    {
     "name": "stdout",
     "output_type": "stream",
     "text": [
      "  OECD countries       2021 Unnamed: 22  Unnamed: 23  Unnamed: 24\n",
      "0      Australia  2,291,929                      NaN          NaN\n",
      "1    Austria (1)     30,550                      NaN          NaN\n",
      "2    Belgium (2)         ..                      NaN          NaN\n",
      "3     Canada (3)  3,218,436                      NaN          NaN\n",
      "4          Chile    167,556                      NaN          NaN\n",
      "(100, 5)\n"
     ]
    }
   ],
   "source": [
    "# Identify a list of columns to delete\n",
    "columns_to_delete = df.columns[1:21]  \n",
    "\n",
    "# Delete this list using .drop\n",
    "df = df.drop(columns=columns_to_delete)  # Drop the specified columns\n",
    "\n",
    "# Check if list of columns have been removed\n",
    "print(df.head())\n",
    "print(df.shape)"
   ]
  },
  {
   "cell_type": "code",
   "execution_count": 83,
   "id": "c6e081cb",
   "metadata": {},
   "outputs": [
    {
     "name": "stdout",
     "output_type": "stream",
     "text": [
      "  OECD countries       2021\n",
      "0      Australia  2,291,929\n",
      "1    Austria (1)     30,550\n",
      "2    Belgium (2)         ..\n",
      "3     Canada (3)  3,218,436\n",
      "4          Chile    167,556\n",
      "(100, 2)\n"
     ]
    }
   ],
   "source": [
    "# Remove the last three columns\n",
    "df = df.iloc[:, :-3]  \n",
    "\n",
    "# Check if last 3 columns have been removed\n",
    "print(df.head())\n",
    "print(df.shape)"
   ]
  },
  {
   "cell_type": "code",
   "execution_count": 84,
   "id": "20d1ca14",
   "metadata": {
    "scrolled": true
   },
   "outputs": [
    {
     "name": "stdout",
     "output_type": "stream",
     "text": [
      "                                       OECD countries        2021\n",
      "94                                      Zimbabwe (32)       2,935\n",
      "95                           Regional indicators (33)         NaN\n",
      "96                                         Total OECD  58,893,043\n",
      "97                            Total selected non-OECD   1,733,646\n",
      "98                                                NaN         NaN\n",
      "99  Note: The total amount of investments of funde...         NaN\n"
     ]
    }
   ],
   "source": [
    "print(df.tail(6))"
   ]
  },
  {
   "cell_type": "code",
   "execution_count": 85,
   "id": "a62f8b78",
   "metadata": {},
   "outputs": [
    {
     "name": "stdout",
     "output_type": "stream",
     "text": [
      "         OECD countries    2021\n",
      "89  Trinidad and Tobago      ..\n",
      "90               Uganda   5,460\n",
      "91              Ukraine      ..\n",
      "92              Uruguay  17,351\n",
      "93               Zambia     745\n",
      "94        Zimbabwe (32)   2,935\n",
      "(95, 2)\n"
     ]
    }
   ],
   "source": [
    "# Remove the last five rows\n",
    "df = df.iloc[:-5, :]  \n",
    "\n",
    "# Check if last 3 columns have been removed\n",
    "print(df.tail(6))\n",
    "print(df.shape)"
   ]
  },
  {
   "cell_type": "code",
   "execution_count": 88,
   "id": "d7e80d10",
   "metadata": {},
   "outputs": [
    {
     "name": "stdout",
     "output_type": "stream",
     "text": [
      "   OECD countries       2021\n",
      "0       Australia  2,291,929\n",
      "1     Austria (1)     30,550\n",
      "2     Belgium (2)         ..\n",
      "3      Canada (3)  3,218,436\n",
      "4           Chile    167,556\n",
      "..            ...        ...\n",
      "90         Uganda      5,460\n",
      "91        Ukraine         ..\n",
      "92        Uruguay     17,351\n",
      "93         Zambia        745\n",
      "94  Zimbabwe (32)      2,935\n",
      "\n",
      "[94 rows x 2 columns]\n"
     ]
    }
   ],
   "source": [
    "#Remove nil values and check result\n",
    "df=df.dropna()\n",
    "print(df)"
   ]
  },
  {
   "cell_type": "code",
   "execution_count": 91,
   "id": "3c06f099",
   "metadata": {
    "scrolled": true
   },
   "outputs": [
    {
     "name": "stdout",
     "output_type": "stream",
     "text": [
      "   OECD countries       2021\n",
      "0       Australia  2,291,929\n",
      "1     Austria (1)     30,550\n",
      "3      Canada (3)  3,218,436\n",
      "4           Chile    167,556\n",
      "5        Colombia     91,806\n",
      "..            ...        ...\n",
      "88       Thailand     40,366\n",
      "90         Uganda      5,460\n",
      "92        Uruguay     17,351\n",
      "93         Zambia        745\n",
      "94  Zimbabwe (32)      2,935\n",
      "\n",
      "[79 rows x 2 columns]\n"
     ]
    }
   ],
   "source": [
    "#\"..\" in the dataframe is not a missing value, delete this field using boolean indexing instead\n",
    "df = df[~df.eq('..').any(axis=1)]\n",
    "print(df)"
   ]
  },
  {
   "cell_type": "code",
   "execution_count": 98,
   "id": "2246b603",
   "metadata": {},
   "outputs": [
    {
     "name": "stdout",
     "output_type": "stream",
     "text": [
      "         Countries   2021\n",
      "0        Australia  147.4\n",
      "1      Austria (1)    6.7\n",
      "3       Canada (3)  166.1\n",
      "4            Chile   60.3\n",
      "5         Colombia   31.2\n",
      "..             ...    ...\n",
      "83          Serbia    0.8\n",
      "84  Singapore (30)   93.8\n",
      "86        Suriname   12.1\n",
      "88        Thailand    8.3\n",
      "90          Uganda   12.8\n",
      "\n",
      "[74 rows x 2 columns]\n"
     ]
    }
   ],
   "source": [
    "#Repeat above steps for new dataframe df1 (Total assets in funded and private pension plans, as a % of GDP, 2001-2021)\n",
    "oecd_gdp_priv_pens = \"/Users/andrewquinn/Analytics Project/Pension-Markets-in-Focus-2022-Statistical-Annex/Total assets in funded and private pension plans, as a % of GDP, 2001-2021-Table 1_modified.csv\"\n",
    "df1 = pd.read_csv(oecd_gdp_priv_pens)\n",
    "columns_to_delete = df1.columns[1:21]  \n",
    "df1 = df1.drop(columns=columns_to_delete)  \n",
    "df1 = df1.iloc[:, :-3]\n",
    "df1 = df1.iloc[:-5, :] \n",
    "df1=df1.dropna()\n",
    "df1 = df1[~df1.eq('..').any(axis=1)]\n",
    "print(df1)"
   ]
  },
  {
   "cell_type": "code",
   "execution_count": 110,
   "id": "2b679d37",
   "metadata": {},
   "outputs": [
    {
     "name": "stdout",
     "output_type": "stream",
     "text": [
      "         Countries 2021 $Mil  2021 %GDP\n",
      "0        Australia     147.4  2,291,929\n",
      "1      Austria (1)       6.7     30,550\n",
      "2       Canada (3)     166.1  3,218,436\n",
      "3            Chile      60.3    167,556\n",
      "4         Colombia      31.2     91,806\n",
      "..             ...       ...        ...\n",
      "69          Serbia       0.8        473\n",
      "70  Singapore (30)      93.8    370,054\n",
      "71        Suriname      12.1        324\n",
      "72        Thailand       8.3     40,366\n",
      "73          Uganda      12.8      5,460\n",
      "\n",
      "[74 rows x 3 columns]\n"
     ]
    }
   ],
   "source": [
    "#Merge the two dataframes \"merged_df\"\n",
    "merged_df = pd.merge(df1, df, left_on='Countries', right_on='OECD countries', how='inner', suffixes =(' $Mil', ' %GDP'))\n",
    "merged_df = merged_df.drop('OECD countries', axis=1)\n",
    "print(merged_df)"
   ]
  },
  {
   "cell_type": "code",
   "execution_count": null,
   "id": "2a18bd35",
   "metadata": {},
   "outputs": [],
   "source": []
  }
 ],
 "metadata": {
  "kernelspec": {
   "display_name": "Python 3",
   "language": "python",
   "name": "python3"
  },
  "language_info": {
   "codemirror_mode": {
    "name": "ipython",
    "version": 3
   },
   "file_extension": ".py",
   "mimetype": "text/x-python",
   "name": "python",
   "nbconvert_exporter": "python",
   "pygments_lexer": "ipython3",
   "version": "3.8.8"
  }
 },
 "nbformat": 4,
 "nbformat_minor": 5
}
